{
 "cells": [
  {
   "cell_type": "code",
   "execution_count": 1,
   "id": "fd6b2def-7031-42f4-8021-8a87abb79650",
   "metadata": {},
   "outputs": [
    {
     "name": "stdout",
     "output_type": "stream",
     "text": [
      "Current folder: C:\\Users\\Haris Meo\\MazeProject\n",
      "Files: ['.ipynb_checkpoints', 'maza.txt', 'project.ipynb']\n"
     ]
    }
   ],
   "source": [
    "import os\n",
    "print(\"Current folder:\", os.getcwd())\n",
    "print(\"Files:\", os.listdir())\n"
   ]
  },
  {
   "cell_type": "code",
   "execution_count": 3,
   "id": "201d0842-8e8a-41b3-a152-e491fa0c68a2",
   "metadata": {},
   "outputs": [],
   "source": [
    "class Maze:\n",
    "    def __init__(self, filename):\n",
    "        self.grid = []\n",
    "        with open(filename, 'r') as f:\n",
    "            for line in f:\n",
    "                self.grid.append(list(line.rstrip('\\n')))\n",
    "        self.rows = len(self.grid)\n",
    "\n",
    "    def print(self):\n",
    "        for row in self.grid:\n",
    "            print(''.join(row))\n",
    "\n",
    "    def find_char(self, ch):\n",
    "        for i, row in enumerate(self.grid):\n",
    "            for j, c in enumerate(row):\n",
    "                if c == ch:\n",
    "                    return (i, j)\n",
    "        return None\n",
    "\n",
    "    def neighbors(self, r, c):\n",
    "        for dr, dc in [(-1,0),(1,0),(0,-1),(0,1)]:\n",
    "            nr, nc = r + dr, c + dc\n",
    "            if 0 <= nr < self.rows and 0 <= nc < len(self.grid[nr]):\n",
    "                if self.grid[nr][nc] != '#':\n",
    "                    yield (nr, nc)\n"
   ]
  },
  {
   "cell_type": "code",
   "execution_count": 7,
   "id": "fb51eb44-37b7-4b09-8d34-62eebaf9f5b6",
   "metadata": {},
   "outputs": [],
   "source": [
    "from collections import deque\n",
    "\n",
    "class MazeSolver:\n",
    "    def __init__(self, maze):\n",
    "        self.maze = maze\n",
    "        self.solved = None\n",
    "\n",
    "    def solve_bfs(self, start_char='S', end_char='E'):\n",
    "        start = self.maze.find_char(start_char)\n",
    "        end = self.maze.find_char(end_char)\n",
    "        if not start or not end:\n",
    "            return False, \"Start (S) or End (E) not found.\"\n",
    "\n",
    "        q = deque([start])\n",
    "        prev = {start: None}\n",
    "\n",
    "        while q:\n",
    "            cur = q.popleft()\n",
    "            if cur == end:\n",
    "                path = []\n",
    "                node = cur\n",
    "                while node is not None:\n",
    "                    path.append(node)\n",
    "                    node = prev[node]\n",
    "                path.reverse()\n",
    "\n",
    "                solved_grid = [row[:] for row in self.maze.grid]\n",
    "                for (r, c) in path:\n",
    "                    if solved_grid[r][c] not in (start_char, end_char):\n",
    "                        solved_grid[r][c] = '.'\n",
    "                self.solved = solved_grid\n",
    "                return True, path\n",
    "\n",
    "            for nb in self.maze.neighbors(*cur):\n",
    "                if nb not in prev:\n",
    "                    prev[nb] = cur\n",
    "                    q.append(nb)\n",
    "\n",
    "        return False, \"No path found.\"\n",
    "\n",
    "    def print_solved(self):\n",
    "        if self.solved:\n",
    "            for row in self.solved:\n",
    "                print(''.join(row))\n"
   ]
  },
  {
   "cell_type": "code",
   "execution_count": 6,
   "id": "ea566d71-2b5e-4eaf-a7c5-90f7ea2cdb4d",
   "metadata": {},
   "outputs": [
    {
     "name": "stdout",
     "output_type": "stream",
     "text": [
      "Maze (input):\n",
      "##########\n",
      "#S   #   #\n",
      "# ## # # #\n",
      "#    # #E#\n",
      "# ####  ##\n",
      "#        #\n",
      "##########\n",
      "\n",
      "Path found! Steps: 17\n",
      "Solved Maze:\n",
      "##########\n",
      "#S   #...#\n",
      "#.## #.#.#\n",
      "#.   #.#E#\n",
      "#.####. ##\n",
      "#......  #\n",
      "##########\n"
     ]
    }
   ],
   "source": [
    " m = Maze(\"maza.txt\")\n",
    "print(\"Maze (input):\")\n",
    "m.print()\n",
    "\n",
    "solver = MazeSolver(m)\n",
    "ok, result = solver.solve_bfs()\n",
    "\n",
    "if ok:\n",
    "    print(\"\\nPath found! Steps:\", len(result)-1)\n",
    "    print(\"Solved Maze:\")\n",
    "    solver.print_solved()\n",
    "else:\n",
    "    print(\"Error:\", result)\n"
   ]
  },
  {
   "cell_type": "code",
   "execution_count": null,
   "id": "1661df14-d2c7-4a55-8c3b-38be37149611",
   "metadata": {},
   "outputs": [],
   "source": []
  }
 ],
 "metadata": {
  "kernelspec": {
   "display_name": "Python [conda env:anaconda]",
   "language": "python",
   "name": "conda-env-anaconda-py"
  },
  "language_info": {
   "codemirror_mode": {
    "name": "ipython",
    "version": 3
   },
   "file_extension": ".py",
   "mimetype": "text/x-python",
   "name": "python",
   "nbconvert_exporter": "python",
   "pygments_lexer": "ipython3",
   "version": "3.13.5"
  }
 },
 "nbformat": 4,
 "nbformat_minor": 5
}
